{
 "cells": [
  {
   "cell_type": "code",
   "execution_count": 2,
   "metadata": {
    "collapsed": false
   },
   "outputs": [
    {
     "ename": "SyntaxError",
     "evalue": "invalid syntax (<ipython-input-2-1063593f5baa>, line 19)",
     "output_type": "error",
     "traceback": [
      "\u001b[0;36m  File \u001b[0;32m\"<ipython-input-2-1063593f5baa>\"\u001b[0;36m, line \u001b[0;32m19\u001b[0m\n\u001b[0;31m    print 'REQUEST_API: {}'.format(url)\u001b[0m\n\u001b[0m                          ^\u001b[0m\n\u001b[0;31mSyntaxError\u001b[0m\u001b[0;31m:\u001b[0m invalid syntax\n"
     ]
    }
   ],
   "source": [
    "base_domain = MODE.get('production')\n",
    "url_base = 'https://{}/v1/candles?'.format(base_domain)\n",
    "url = url_base + 'instrument={}&'.format(currency_pair.name) + \\\n",
    "    'count=5000&' +\\\n",
    "    'candleFormat=midpoint&' +\\\n",
    "    'granularity={}&'.format(granularity.name) +\\\n",
    "    'dailyAlignment=0&' +\\\n",
    "    'alignmentTimezone=Asia%2FTokyo&' +\\\n",
    "    'start={}T00%3A00%3A00Z'.format(start)\n",
    "\n",
    "response = requests_api(url)\n",
    "\n",
    "def requests_api(url, payload=None):\n",
    "    auth = 'Bearer {}'.format(get_password('OandaRestAPIToken'))\n",
    "    headers = {'Accept-Encoding': 'identity, deflate, compress, gzip',\n",
    "               'Accept': '*/*', 'User-Agent': 'python-requests/1.2.0',\n",
    "               'Content-type': 'application/json; charset=utf-8',\n",
    "               'Authorization': auth}\n",
    "    if payload:\n",
    "        requests.adapters.DEFAULT_RETRIES = 2\n",
    "        response = requests.post(url, headers=headers, data=payload, timeout=10)\n",
    "    else:\n",
    "        requests.adapters.DEFAULT_RETRIES = 2\n",
    "        response = requests.get(url, headers=headers, timeout=10)\n",
    "    print 'REQUEST_API: {}'.format(url)\n",
    "    return response"
   ]
  },
  {
   "cell_type": "code",
   "execution_count": 3,
   "metadata": {
    "collapsed": false
   },
   "outputs": [
    {
     "ename": "SyntaxError",
     "evalue": "invalid syntax (<ipython-input-3-7ba69aaf41b8>, line 1)",
     "output_type": "error",
     "traceback": [
      "\u001b[0;36m  File \u001b[0;32m\"<ipython-input-3-7ba69aaf41b8>\"\u001b[0;36m, line \u001b[0;32m1\u001b[0m\n\u001b[0;31m    curl -X GET \"https://api-sandbox.oanda.com/v1/candles?instrument=EUR_USD&count=100&candleFormat=midpoint&granularity=D&dailyAlignment=0&alignmentTimezone=America%2FNew_York\"\u001b[0m\n\u001b[0m              ^\u001b[0m\n\u001b[0;31mSyntaxError\u001b[0m\u001b[0;31m:\u001b[0m invalid syntax\n"
     ]
    }
   ],
   "source": []
  },
  {
   "cell_type": "code",
   "execution_count": null,
   "metadata": {
    "collapsed": true
   },
   "outputs": [],
   "source": []
  }
 ],
 "metadata": {
  "kernelspec": {
   "display_name": "Python [default]",
   "language": "python",
   "name": "python3"
  },
  "language_info": {
   "codemirror_mode": {
    "name": "ipython",
    "version": 3
   },
   "file_extension": ".py",
   "mimetype": "text/x-python",
   "name": "python",
   "nbconvert_exporter": "python",
   "pygments_lexer": "ipython3",
   "version": "3.5.2"
  }
 },
 "nbformat": 4,
 "nbformat_minor": 1
}
